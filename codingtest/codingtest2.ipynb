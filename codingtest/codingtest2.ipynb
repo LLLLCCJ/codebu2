{
 "cells": [
  {
   "cell_type": "raw",
   "id": "ea8fbb64",
   "metadata": {},
   "source": [
    "같은 걸 밟으면 +1\n",
    "단, 같은 경로를 지나면 -1\n",
    "\n",
    "2차원 배열 설정 후 이동 시 변경"
   ]
  },
  {
   "cell_type": "raw",
   "id": "0c19bdaf",
   "metadata": {},
   "source": [
    "701\n",
    "6 2\n",
    "543"
   ]
  },
  {
   "cell_type": "code",
   "execution_count": 1,
   "id": "c687b454",
   "metadata": {},
   "outputs": [],
   "source": [
    "arrows=[6, 6, 6, 4, 4, 4, 2, 2, 2, 0, 0, 0, 1, 6, 5, 5, 3, 6, 0]"
   ]
  },
  {
   "cell_type": "code",
   "execution_count": null,
   "id": "61b9b336",
   "metadata": {},
   "outputs": [],
   "source": [
    "def solution(arrows):\n",
    "    length=len(arrows)\n",
    "    loc=[[0 for i in range(length)] for i in range(length)]\n",
    "    point=length//2\n",
    "    for i in arrows:\n",
    "        if i==0:\n",
    "            loc[zero_point-1][zero_point]\n",
    "    answer = 0\n",
    "    return answer\n",
    "def solution2(arrows,x):\n",
    "    end_point=len(arrows)-1\n",
    "    arrows[end_point]"
   ]
  },
  {
   "cell_type": "code",
   "execution_count": 2,
   "id": "237446b5",
   "metadata": {},
   "outputs": [
    {
     "ename": "NameError",
     "evalue": "name 'solution' is not defined",
     "output_type": "error",
     "traceback": [
      "\u001b[1;31m---------------------------------------------------------------------------\u001b[0m",
      "\u001b[1;31mNameError\u001b[0m                                 Traceback (most recent call last)",
      "\u001b[1;32m<ipython-input-2-41f0c9e8323e>\u001b[0m in \u001b[0;36m<module>\u001b[1;34m\u001b[0m\n\u001b[1;32m----> 1\u001b[1;33m \u001b[0msolution\u001b[0m\u001b[1;33m(\u001b[0m\u001b[0marrows\u001b[0m\u001b[1;33m)\u001b[0m\u001b[1;33m\u001b[0m\u001b[1;33m\u001b[0m\u001b[0m\n\u001b[0m",
      "\u001b[1;31mNameError\u001b[0m: name 'solution' is not defined"
     ]
    }
   ],
   "source": [
    "solution(arrows)"
   ]
  },
  {
   "cell_type": "code",
   "execution_count": 7,
   "id": "a43594d9",
   "metadata": {},
   "outputs": [],
   "source": [
    "x=[[1,2,3],[4,5,6]]"
   ]
  }
 ],
 "metadata": {
  "kernelspec": {
   "display_name": "Python 3",
   "language": "python",
   "name": "python3"
  },
  "language_info": {
   "codemirror_mode": {
    "name": "ipython",
    "version": 3
   },
   "file_extension": ".py",
   "mimetype": "text/x-python",
   "name": "python",
   "nbconvert_exporter": "python",
   "pygments_lexer": "ipython3",
   "version": "3.8.8"
  }
 },
 "nbformat": 4,
 "nbformat_minor": 5
}
