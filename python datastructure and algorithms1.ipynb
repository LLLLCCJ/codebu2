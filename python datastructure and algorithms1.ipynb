{
 "cells": [
  {
   "cell_type": "code",
   "execution_count": 1,
   "id": "20ab6942",
   "metadata": {},
   "outputs": [
    {
     "data": {
      "text/plain": [
       "10"
      ]
     },
     "execution_count": 1,
     "metadata": {},
     "output_type": "execute_result"
    }
   ],
   "source": [
    "(999).bit_length()"
   ]
  },
  {
   "cell_type": "code",
   "execution_count": 2,
   "id": "ed7e6d63",
   "metadata": {},
   "outputs": [],
   "source": [
    "s=\"11\""
   ]
  },
  {
   "cell_type": "code",
   "execution_count": 3,
   "id": "66a73ec8",
   "metadata": {},
   "outputs": [],
   "source": [
    "d=int(s)"
   ]
  },
  {
   "cell_type": "code",
   "execution_count": 4,
   "id": "26b14b18",
   "metadata": {},
   "outputs": [
    {
     "data": {
      "text/plain": [
       "11"
      ]
     },
     "execution_count": 4,
     "metadata": {},
     "output_type": "execute_result"
    }
   ],
   "source": [
    "d"
   ]
  },
  {
   "cell_type": "code",
   "execution_count": 5,
   "id": "1ebcd288",
   "metadata": {},
   "outputs": [],
   "source": [
    "b=int(s,2)"
   ]
  },
  {
   "cell_type": "code",
   "execution_count": 6,
   "id": "8814ebd7",
   "metadata": {},
   "outputs": [
    {
     "data": {
      "text/plain": [
       "3"
      ]
     },
     "execution_count": 6,
     "metadata": {},
     "output_type": "execute_result"
    }
   ],
   "source": [
    "b"
   ]
  },
  {
   "cell_type": "code",
   "execution_count": 7,
   "id": "6337d887",
   "metadata": {},
   "outputs": [
    {
     "data": {
      "text/plain": [
       "3"
      ]
     },
     "execution_count": 7,
     "metadata": {},
     "output_type": "execute_result"
    }
   ],
   "source": [
    "b"
   ]
  },
  {
   "cell_type": "code",
   "execution_count": 8,
   "id": "876044c4",
   "metadata": {},
   "outputs": [
    {
     "data": {
      "text/plain": [
       "0.6000000000000001"
      ]
     },
     "execution_count": 8,
     "metadata": {},
     "output_type": "execute_result"
    }
   ],
   "source": [
    "0.2*3"
   ]
  },
  {
   "cell_type": "code",
   "execution_count": 9,
   "id": "6123b61f",
   "metadata": {},
   "outputs": [
    {
     "data": {
      "text/plain": [
       "False"
      ]
     },
     "execution_count": 9,
     "metadata": {},
     "output_type": "execute_result"
    }
   ],
   "source": [
    "0.2*3==0.6"
   ]
  },
  {
   "cell_type": "code",
   "execution_count": 10,
   "id": "58e76382",
   "metadata": {},
   "outputs": [
    {
     "data": {
      "text/plain": [
       "True"
      ]
     },
     "execution_count": 10,
     "metadata": {},
     "output_type": "execute_result"
    }
   ],
   "source": [
    "1.2-0.2==1.0"
   ]
  },
  {
   "cell_type": "code",
   "execution_count": 11,
   "id": "9fa3a373",
   "metadata": {},
   "outputs": [
    {
     "data": {
      "text/plain": [
       "False"
      ]
     },
     "execution_count": 11,
     "metadata": {},
     "output_type": "execute_result"
    }
   ],
   "source": [
    "1.2-0.1==1.1"
   ]
  },
  {
   "cell_type": "code",
   "execution_count": 12,
   "id": "1e2653a5",
   "metadata": {},
   "outputs": [],
   "source": [
    "def a(x,y,places=7):\n",
    "    return round(abs(x-y),places)==0"
   ]
  },
  {
   "cell_type": "code",
   "execution_count": 13,
   "id": "ce542596",
   "metadata": {},
   "outputs": [
    {
     "data": {
      "text/plain": [
       "False"
      ]
     },
     "execution_count": 13,
     "metadata": {},
     "output_type": "execute_result"
    }
   ],
   "source": [
    "a(3,1)"
   ]
  },
  {
   "cell_type": "code",
   "execution_count": 14,
   "id": "d1221570",
   "metadata": {},
   "outputs": [
    {
     "data": {
      "text/plain": [
       "True"
      ]
     },
     "execution_count": 14,
     "metadata": {},
     "output_type": "execute_result"
    }
   ],
   "source": [
    "a(3,3)"
   ]
  },
  {
   "cell_type": "code",
   "execution_count": 16,
   "id": "cec9b016",
   "metadata": {},
   "outputs": [
    {
     "data": {
      "text/plain": [
       "(7, 3)"
      ]
     },
     "execution_count": 16,
     "metadata": {},
     "output_type": "execute_result"
    }
   ],
   "source": [
    "divmod(45,6)"
   ]
  },
  {
   "cell_type": "code",
   "execution_count": 17,
   "id": "738c1088",
   "metadata": {},
   "outputs": [
    {
     "data": {
      "text/plain": [
       "112.1231"
      ]
     },
     "execution_count": 17,
     "metadata": {},
     "output_type": "execute_result"
    }
   ],
   "source": [
    "round(112.123123,4)"
   ]
  },
  {
   "cell_type": "code",
   "execution_count": 18,
   "id": "919cf57b",
   "metadata": {},
   "outputs": [
    {
     "data": {
      "text/plain": [
       "1213.1237"
      ]
     },
     "execution_count": 18,
     "metadata": {},
     "output_type": "execute_result"
    }
   ],
   "source": [
    "round(1213.12367,4)"
   ]
  },
  {
   "cell_type": "code",
   "execution_count": 19,
   "id": "9b557433",
   "metadata": {},
   "outputs": [
    {
     "data": {
      "text/plain": [
       "(1257630195943211, 562949953421312)"
      ]
     },
     "execution_count": 19,
     "metadata": {},
     "output_type": "execute_result"
    }
   ],
   "source": [
    "2.234.as_integer_ratio()"
   ]
  },
  {
   "cell_type": "code",
   "execution_count": 20,
   "id": "d5743288",
   "metadata": {},
   "outputs": [
    {
     "data": {
      "text/plain": [
       "(11, 4)"
      ]
     },
     "execution_count": 20,
     "metadata": {},
     "output_type": "execute_result"
    }
   ],
   "source": [
    "2.75.as_integer_ratio()"
   ]
  },
  {
   "cell_type": "code",
   "execution_count": null,
   "id": "fe8bf090",
   "metadata": {},
   "outputs": [],
   "source": [
    "0.1.as_integer_ratio()"
   ]
  },
  {
   "cell_type": "code",
   "execution_count": 43,
   "id": "a3c42cf2",
   "metadata": {},
   "outputs": [
    {
     "ename": "NameError",
     "evalue": "name 'number' is not defined",
     "output_type": "error",
     "traceback": [
      "\u001b[1;31m---------------------------------------------------------------------------\u001b[0m",
      "\u001b[1;31mNameError\u001b[0m                                 Traceback (most recent call last)",
      "\u001b[1;32m<ipython-input-43-130c1f633701>\u001b[0m in \u001b[0;36m<module>\u001b[1;34m\u001b[0m\n\u001b[0;32m     27\u001b[0m \u001b[1;33m\u001b[0m\u001b[0m\n\u001b[0;32m     28\u001b[0m \u001b[1;32mif\u001b[0m \u001b[0m__name__\u001b[0m\u001b[1;33m==\u001b[0m\u001b[1;34m\"__main__\"\u001b[0m\u001b[1;33m:\u001b[0m\u001b[1;33m\u001b[0m\u001b[1;33m\u001b[0m\u001b[0m\n\u001b[1;32m---> 29\u001b[1;33m     \u001b[0mtest_testing_floats\u001b[0m\u001b[1;33m(\u001b[0m\u001b[1;33m)\u001b[0m\u001b[1;33m\u001b[0m\u001b[1;33m\u001b[0m\u001b[0m\n\u001b[0m",
      "\u001b[1;32m<ipython-input-43-130c1f633701>\u001b[0m in \u001b[0;36mtest_testing_floats\u001b[1;34m()\u001b[0m\n\u001b[0;32m     20\u001b[0m     \u001b[0mnumber4\u001b[0m\u001b[1;33m=\u001b[0m\u001b[1;36m5\u001b[0m\u001b[1;33m/\u001b[0m\u001b[1;36m4\u001b[0m\u001b[1;33m\u001b[0m\u001b[1;33m\u001b[0m\u001b[0m\n\u001b[0;32m     21\u001b[0m     \u001b[0mnumber6\u001b[0m\u001b[1;33m=\u001b[0m\u001b[1;36m6\u001b[0m\u001b[1;33m\u001b[0m\u001b[1;33m\u001b[0m\u001b[0m\n\u001b[1;32m---> 22\u001b[1;33m     \u001b[1;32massert\u001b[0m\u001b[1;33m(\u001b[0m\u001b[0mrounding_floats\u001b[0m\u001b[1;33m(\u001b[0m\u001b[0mnumber1\u001b[0m\u001b[1;33m,\u001b[0m\u001b[0mnumber2\u001b[0m\u001b[1;33m)\u001b[0m\u001b[1;33m==\u001b[0m\u001b[1;36m1.2\u001b[0m\u001b[1;33m)\u001b[0m\u001b[1;33m\u001b[0m\u001b[1;33m\u001b[0m\u001b[0m\n\u001b[0m\u001b[0;32m     23\u001b[0m     \u001b[1;32massert\u001b[0m\u001b[1;33m(\u001b[0m\u001b[0mfloat_to_fractions\u001b[0m\u001b[1;33m(\u001b[0m\u001b[0mnumber1\u001b[0m\u001b[1;33m)\u001b[0m\u001b[1;33m==\u001b[0m\u001b[0mnumber4\u001b[0m\u001b[1;33m)\u001b[0m\u001b[1;33m\u001b[0m\u001b[1;33m\u001b[0m\u001b[0m\n\u001b[0;32m     24\u001b[0m     \u001b[1;32massert\u001b[0m\u001b[1;33m(\u001b[0m\u001b[0mget_denominator\u001b[0m\u001b[1;33m(\u001b[0m\u001b[0mnumber2\u001b[0m\u001b[1;33m,\u001b[0m\u001b[0mnumber6\u001b[0m\u001b[1;33m)\u001b[0m\u001b[1;33m==\u001b[0m\u001b[0mnumber6\u001b[0m\u001b[1;33m)\u001b[0m\u001b[1;33m\u001b[0m\u001b[1;33m\u001b[0m\u001b[0m\n",
      "\u001b[1;32m<ipython-input-43-130c1f633701>\u001b[0m in \u001b[0;36mrounding_floats\u001b[1;34m(number1, places)\u001b[0m\n\u001b[0;32m      2\u001b[0m \u001b[1;33m\u001b[0m\u001b[0m\n\u001b[0;32m      3\u001b[0m \u001b[1;32mdef\u001b[0m \u001b[0mrounding_floats\u001b[0m\u001b[1;33m(\u001b[0m\u001b[0mnumber1\u001b[0m\u001b[1;33m,\u001b[0m\u001b[0mplaces\u001b[0m\u001b[1;33m)\u001b[0m\u001b[1;33m:\u001b[0m\u001b[1;33m\u001b[0m\u001b[1;33m\u001b[0m\u001b[0m\n\u001b[1;32m----> 4\u001b[1;33m     \u001b[1;32mreturn\u001b[0m \u001b[0mround\u001b[0m\u001b[1;33m(\u001b[0m\u001b[0mnumber\u001b[0m\u001b[1;33m,\u001b[0m\u001b[0mplaces\u001b[0m\u001b[1;33m)\u001b[0m\u001b[1;33m\u001b[0m\u001b[1;33m\u001b[0m\u001b[0m\n\u001b[0m\u001b[0;32m      5\u001b[0m \u001b[1;33m\u001b[0m\u001b[0m\n\u001b[0;32m      6\u001b[0m \u001b[1;32mdef\u001b[0m \u001b[0mfloat_to_fractions\u001b[0m\u001b[1;33m(\u001b[0m\u001b[0mnumber\u001b[0m\u001b[1;33m)\u001b[0m\u001b[1;33m:\u001b[0m\u001b[1;33m\u001b[0m\u001b[1;33m\u001b[0m\u001b[0m\n",
      "\u001b[1;31mNameError\u001b[0m: name 'number' is not defined"
     ]
    }
   ],
   "source": [
    "from fractions import Fraction\n",
    "\n",
    "def rounding_floats(number1,places):\n",
    "    return round(number1,places)\n",
    "\n",
    "def float_to_fractions(number):\n",
    "    return Fraction(*number.as_integer_ratio)\n",
    "\n",
    "def get_denominator(number1,number2):\n",
    "    a=Fraction(number1,number2)\n",
    "    return a.denominator\n",
    "def get_numerator(number1,number2):\n",
    "    a=Fraction(numa,numb)\n",
    "    return a.numerator\n",
    "\n",
    "def test_testing_floats():\n",
    "    number1=1.25\n",
    "    number2=1\n",
    "    number3=-1\n",
    "    number4=5/4\n",
    "    number6=6\n",
    "    assert(rounding_floats(number1,number2)==1.2)\n",
    "    assert(float_to_fractions(number1)==number4)\n",
    "    assert(get_denominator(number2,number6)==number6)\n",
    "    assert(get_numerator(number2,number6)==number2)\n",
    "    print(\"pass!\")\n",
    "    \n",
    "if __name__==\"__main__\":\n",
    "    test_testing_floats()"
   ]
  },
  {
   "cell_type": "code",
   "execution_count": 40,
   "id": "b28d7265",
   "metadata": {},
   "outputs": [
    {
     "data": {
      "text/plain": [
       "Fraction(5, 4)"
      ]
     },
     "execution_count": 40,
     "metadata": {},
     "output_type": "execute_result"
    }
   ],
   "source": [
    "Fraction(*1.25.as_integer_ratio())"
   ]
  },
  {
   "cell_type": "code",
   "execution_count": 42,
   "id": "0084bdf1",
   "metadata": {},
   "outputs": [
    {
     "name": "stdout",
     "output_type": "stream",
     "text": [
      "테스트 통과!\n"
     ]
    }
   ],
   "source": [
    "from fractions import Fraction\n",
    "\n",
    "\n",
    "def rounding_floats(number1, places):\n",
    "    return round(number1, places)\n",
    "\n",
    "\n",
    "def float_to_fractions(number):\n",
    "    return Fraction(*number.as_integer_ratio())\n",
    "\n",
    "\n",
    "def get_denominator(number1, number2):\n",
    "    \"\"\" 분모를 반환한다.\"\"\"\n",
    "    a = Fraction(number1, number2)\n",
    "    return a.denominator\n",
    "\n",
    "\n",
    "def get_numerator(number1, number2):\n",
    "    \"\"\" 분자를 반환한다.\"\"\"\n",
    "    a = Fraction(number1, number2)\n",
    "    return a.numerator\n",
    "\n",
    "\n",
    "def test_testing_floats():\n",
    "    number1 = 1.25\n",
    "    number2 = 1\n",
    "    number3 = -1\n",
    "    number4 = 5/4\n",
    "    number6 = 6\n",
    "    assert(rounding_floats(number1, number2) == 1.2)\n",
    "    assert(float_to_fractions(number1) == number4)\n",
    "    assert(get_denominator(number2, number6) == number6)\n",
    "    assert(get_numerator(number2, number6) == number2)\n",
    "    print(\"테스트 통과!\")\n",
    "\n",
    "\n",
    "if __name__ == \"__main__\":\n",
    "    test_testing_floats()"
   ]
  },
  {
   "cell_type": "code",
   "execution_count": null,
   "id": "4e24a24f",
   "metadata": {},
   "outputs": [],
   "source": []
  }
 ],
 "metadata": {
  "kernelspec": {
   "display_name": "Python 3",
   "language": "python",
   "name": "python3"
  },
  "language_info": {
   "codemirror_mode": {
    "name": "ipython",
    "version": 3
   },
   "file_extension": ".py",
   "mimetype": "text/x-python",
   "name": "python",
   "nbconvert_exporter": "python",
   "pygments_lexer": "ipython3",
   "version": "3.8.8"
  }
 },
 "nbformat": 4,
 "nbformat_minor": 5
}
