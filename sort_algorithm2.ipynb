{
 "cells": [
  {
   "cell_type": "code",
   "execution_count": 1,
   "id": "84c7d4e7",
   "metadata": {},
   "outputs": [],
   "source": [
    "def heapify(i,index,n):\n",
    "    a=index*2\n",
    "    b=index*2+1\n",
    "    s_idx = index\n",
    "    if a<=n and i[s_idx]>i[a]:\n",
    "        s_idx=a\n",
    "    if b<=n and i[s_idx]>i[b]:\n",
    "        s_idx=b\n",
    "    if s_idx != index:\n",
    "        i[index],i[s_idx]=i[s_idx],i[index]\n",
    "        return heapify(i,s_idx,n)\n",
    "def heap_sort(x):\n",
    "    n=len(x)\n",
    "    x=[0]+x\n",
    "    for i in range(n,0,-1):\n",
    "        heapify(x,i,n)\n",
    "    for i in range(n,0,-1):\n",
    "        print(x[1],end=' ')\n",
    "        x[i],x[1]=x[1],x[i]\n",
    "        heapify(x,1,i-1)"
   ]
  },
  {
   "cell_type": "code",
   "execution_count": 10,
   "id": "c09c8cef",
   "metadata": {},
   "outputs": [],
   "source": [
    "def split_list(x):\n",
    "    return [x[i:i+len(x)//2] for i in range(0,len(x),len(x)//2)]\n",
    "def merge_Sort(x=list):\n",
    "    while len(x)!=1:\n",
    "        for i in range(2):\n",
    "            x=split_list(x)[0][i]\n",
    "        "
   ]
  },
  {
   "cell_type": "code",
   "execution_count": 6,
   "id": "f80557ea",
   "metadata": {},
   "outputs": [],
   "source": [
    "merge_Sort(x=[2,1,3,4])"
   ]
  },
  {
   "cell_type": "code",
   "execution_count": 8,
   "id": "4282772c",
   "metadata": {},
   "outputs": [
    {
     "data": {
      "text/plain": [
       "[[1, 2, 3, 4, 5], [6, 7, 8, 9, 10]]"
      ]
     },
     "execution_count": 8,
     "metadata": {},
     "output_type": "execute_result"
    }
   ],
   "source": [
    "split_list(x=[1,2,3,4,5,6,7,8,9,10])"
   ]
  },
  {
   "cell_type": "raw",
   "id": "2d5922ae",
   "metadata": {},
   "source": [
    "[12 4 23 11 1 52 37 48]\n",
    "[[12 4 23 11] [1 52 37 48]\n",
    "[[12 4] [23 11] [1 52] [37 48]]\n",
    "[[12] [4] [23] [11] [1] [52] [37] [48]]\n",
    "curr comp"
   ]
  }
 ],
 "metadata": {
  "kernelspec": {
   "display_name": "Python 3",
   "language": "python",
   "name": "python3"
  },
  "language_info": {
   "codemirror_mode": {
    "name": "ipython",
    "version": 3
   },
   "file_extension": ".py",
   "mimetype": "text/x-python",
   "name": "python",
   "nbconvert_exporter": "python",
   "pygments_lexer": "ipython3",
   "version": "3.8.8"
  }
 },
 "nbformat": 4,
 "nbformat_minor": 5
}
